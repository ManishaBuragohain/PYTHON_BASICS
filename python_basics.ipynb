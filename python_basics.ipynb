{
 "cells": [
  {
   "cell_type": "markdown",
   "id": "ffc621ff-7084-4799-a674-ca08e40176e9",
   "metadata": {},
   "source": [
    "1. Write a Python program to create a list of integers, then replace the second element with\n",
    "the string `\"Python\"`. Print the modified list."
   ]
  },
  {
   "cell_type": "code",
   "execution_count": 6,
   "id": "bdf5a832-29c5-47a5-9fc6-6080ca2266a8",
   "metadata": {},
   "outputs": [
    {
     "name": "stdout",
     "output_type": "stream",
     "text": [
      "[10, 'Python', 30, 89, 100, 45]\n"
     ]
    }
   ],
   "source": [
    "mylist = [10,90,30,89,100,45]\n",
    "\n",
    "mylist[1] = \"Python\"\n",
    "\n",
    "print(mylist)"
   ]
  },
  {
   "cell_type": "code",
   "execution_count": 7,
   "id": "b8d6070e-7748-466e-b8a8-e17ddb897be9",
   "metadata": {},
   "outputs": [
    {
     "name": "stdout",
     "output_type": "stream",
     "text": [
      "[100, 'Python', 67, 83, 19, 45]\n"
     ]
    }
   ],
   "source": [
    "def MyListExample(items):\n",
    "    items[1] = \"Python\"\n",
    "    print(items)\n",
    "\n",
    "datas = [100,89,67,83,19,45]\n",
    "MyListExample(datas)"
   ]
  },
  {
   "cell_type": "markdown",
   "id": "bf6b6f78-a339-4e71-9032-2f4175ace733",
   "metadata": {},
   "source": [
    "2. Create a Python program that takes a string as input and prints whether the string is a palindrome. A palindrome is a word that reads the same backward as forward.\n"
   ]
  },
  {
   "cell_type": "code",
   "execution_count": 25,
   "id": "63f88020-f55e-4363-8a71-47003e351cea",
   "metadata": {},
   "outputs": [
    {
     "name": "stdin",
     "output_type": "stream",
     "text": [
      "Enter a string :  malayalam\n"
     ]
    },
    {
     "name": "stdout",
     "output_type": "stream",
     "text": [
      "String is a palindrome\n"
     ]
    }
   ],
   "source": [
    "def findPalindrome(str):\n",
    "    str = str.lower()\n",
    "    \n",
    "\n",
    "    reversed_str = str[::-1]\n",
    "\n",
    "    if str == reversed_str: \n",
    "        print(\"String is a palindrome\")\n",
    "        \n",
    "    else:\n",
    "        print(\"String is not a palindrome\")\n",
    "\n",
    "user_input = input(\"Enter a string : \")\n",
    "\n",
    "\n",
    "findPalindrome(user_input) "
   ]
  },
  {
   "cell_type": "code",
   "execution_count": 27,
   "id": "fb26bfc1-580e-43ba-ab27-7a6f868532c1",
   "metadata": {},
   "outputs": [
    {
     "name": "stdin",
     "output_type": "stream",
     "text": [
      "Enter a string :  madam\n"
     ]
    },
    {
     "name": "stdout",
     "output_type": "stream",
     "text": [
      "The string is a palindrome.\n"
     ]
    }
   ],
   "source": [
    "def findPalindrome(strs):\n",
    "    strs = strs.lower()\n",
    "    \n",
    "    \n",
    "    reversed_str = \"\"\n",
    "    \n",
    "    for i in range(len(strs) - 1, -1, -1):\n",
    "        reversed_str += strs[i]\n",
    "    \n",
    "    if strs == reversed_str:\n",
    "        print(\"The string is a palindrome.\")\n",
    "    else:\n",
    "        print(\"The string is not a palindrome.\")\n",
    "\n",
    "\n",
    "user_input = input(\"Enter a string : \")\n",
    "\n",
    "\n",
    "findPalindrome(user_input)\n"
   ]
  },
  {
   "cell_type": "markdown",
   "id": "8a5ada43-e98a-4557-a462-7ac53a08345a",
   "metadata": {},
   "source": [
    "3. Write a Python program to create a dictionary where the keys are the numbers 1 through 5, and the values are the squares of the keys. Print the dictionary."
   ]
  },
  {
   "cell_type": "code",
   "execution_count": 29,
   "id": "afbcfce5-cbbe-45f0-ae04-f155afef4b43",
   "metadata": {},
   "outputs": [
    {
     "name": "stdout",
     "output_type": "stream",
     "text": [
      "{1: 1, 2: 4, 3: 9, 4: 16, 5: 25}\n"
     ]
    }
   ],
   "source": [
    "my_dict = {1:1*1 , 2 :2*2 , 3:3*3 , 4:4*4 , 5:5*5}\n",
    "print(my_dict)"
   ]
  },
  {
   "cell_type": "markdown",
   "id": "2816066f-45c8-47d6-bfb0-43fe884c53cd",
   "metadata": {},
   "source": [
    "4. Create a Python function that takes a list of numbers and returns a tuple with two lists: one containing the even numbers and the other containing the odd numbers."
   ]
  },
  {
   "cell_type": "code",
   "execution_count": 33,
   "id": "ecaf9643-dae1-4c22-8203-dca6ba0d0192",
   "metadata": {},
   "outputs": [
    {
     "name": "stdout",
     "output_type": "stream",
     "text": [
      "even numbers: [2, 4, 6, 8, 10, 12, 14, 16, 18, 20]\n",
      "odd numbers: [1, 3, 5, 7, 9, 11, 13, 15, 17, 19]\n"
     ]
    }
   ],
   "source": [
    "def myEvenOddList(numbers):\n",
    "    even_list = []\n",
    "    odd_list  = []\n",
    "\n",
    "    for num in numbers:\n",
    "        if num%2 ==0:\n",
    "            even_list.append(num)\n",
    "        else:\n",
    "            odd_list.append(num)\n",
    "\n",
    "\n",
    "    return(even_list, odd_list)\n",
    "\n",
    "numbers = [1,2,3,4,5,6,7,8,9,10,11,12,13,14,15,16,17,18,19,20]\n",
    "even_no , odd_no = myEvenOddList(numbers)\n",
    "\n",
    "print(\"even numbers:\" , even_no)\n",
    "print(\"odd numbers:\", odd_no)"
   ]
  },
  {
   "cell_type": "markdown",
   "id": "88bb8363-332b-4a5a-b988-f6e70585ef3a",
   "metadata": {},
   "source": [
    "5.Write a Python program that converts a given list of tuples into a dictionary where the\n",
    "first item in each tuple is the key and the second item is the value."
   ]
  },
  {
   "cell_type": "code",
   "execution_count": 37,
   "id": "1b82bb0d-1d80-4cda-8534-7a79b644ace6",
   "metadata": {},
   "outputs": [
    {
     "name": "stdout",
     "output_type": "stream",
     "text": [
      "{'a': 'Apple', 'b': 'Banana', 'c': 'Carrot', 'd': 'Dog'}\n"
     ]
    }
   ],
   "source": [
    "my_tuple = [('a',\"Apple\"), ('b',\"Banana\"), ('c',\"Carrot\"), ('d',\"Dog\")]\n",
    "my_dictionary = {}\n",
    "\n",
    "for item in my_tuple:\n",
    "    key, value = item\n",
    "    my_dictionary[key] = value\n",
    "\n",
    "print(my_dictionary)\n",
    " "
   ]
  },
  {
   "cell_type": "code",
   "execution_count": null,
   "id": "286c7295-bf2e-4931-ad6a-d0a1f502dff7",
   "metadata": {},
   "outputs": [],
   "source": []
  }
 ],
 "metadata": {
  "kernelspec": {
   "display_name": "Python 3 (ipykernel)",
   "language": "python",
   "name": "python3"
  },
  "language_info": {
   "codemirror_mode": {
    "name": "ipython",
    "version": 3
   },
   "file_extension": ".py",
   "mimetype": "text/x-python",
   "name": "python",
   "nbconvert_exporter": "python",
   "pygments_lexer": "ipython3",
   "version": "3.12.4"
  }
 },
 "nbformat": 4,
 "nbformat_minor": 5
}
